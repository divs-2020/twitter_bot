{
  "nbformat": 4,
  "nbformat_minor": 0,
  "metadata": {
    "colab": {
      "name": "Creating a Twitter Bot.ipynb",
      "provenance": [],
      "collapsed_sections": [],
      "authorship_tag": "ABX9TyOQNm9QX6b9hx4ooSOK+zza",
      "include_colab_link": true
    },
    "kernelspec": {
      "name": "python3",
      "display_name": "Python 3"
    },
    "language_info": {
      "name": "python"
    }
  },
  "cells": [
    {
      "cell_type": "markdown",
      "metadata": {
        "id": "view-in-github",
        "colab_type": "text"
      },
      "source": [
        "<a href=\"https://colab.research.google.com/github/divs-2020/twitter_bot/blob/main/Creating_a_Twitter_Bot.ipynb\" target=\"_parent\"><img src=\"https://colab.research.google.com/assets/colab-badge.svg\" alt=\"Open In Colab\"/></a>"
      ]
    },
    {
      "cell_type": "markdown",
      "metadata": {
        "id": "ixG_-b5yavTe"
      },
      "source": [
        "FIRST GOOGLE COLAB FILE WHILE MAKING THE TWITTER BOT [Youtube link](https://www.youtube.com/watch?v=Djiba2aqWuk)\n"
      ]
    },
    {
      "cell_type": "code",
      "metadata": {
        "colab": {
          "base_uri": "https://localhost:8080/"
        },
        "id": "sjurQ_JIVbaC",
        "outputId": "c27de97d-289f-4196-885d-818d8f8d2202"
      },
      "source": [
        "print(\"hello world \")"
      ],
      "execution_count": null,
      "outputs": [
        {
          "output_type": "stream",
          "name": "stdout",
          "text": [
            "hello world \n"
          ]
        }
      ]
    },
    {
      "cell_type": "markdown",
      "metadata": {
        "id": "LAg8XFSzaP21"
      },
      "source": [
        "Google colab has so many libraries already installed. This is the good \n",
        "feature of why we should go to using google colab. "
      ]
    },
    {
      "cell_type": "code",
      "metadata": {
        "id": "yR-DzC3aVcud"
      },
      "source": [
        "import tweepy"
      ],
      "execution_count": null,
      "outputs": []
    },
    {
      "cell_type": "code",
      "metadata": {
        "colab": {
          "base_uri": "https://localhost:8080/"
        },
        "id": "s6xDB43OWuxA",
        "outputId": "c1d6d69f-f549-41e8-fd30-a79b5a54dea7"
      },
      "source": [
        "# python list\n",
        "a_list= [10,20,32,22]\n",
        "print(a_list)\n",
        "# access the element of the list\n",
        "a_list[2]\n"
      ],
      "execution_count": null,
      "outputs": [
        {
          "output_type": "stream",
          "name": "stdout",
          "text": [
            "[10, 20, 32, 22]\n"
          ]
        },
        {
          "output_type": "execute_result",
          "data": {
            "text/plain": [
              "32"
            ]
          },
          "metadata": {},
          "execution_count": 4
        }
      ]
    },
    {
      "cell_type": "code",
      "metadata": {
        "colab": {
          "base_uri": "https://localhost:8080/",
          "height": 35
        },
        "id": "bw64X-GnZUFW",
        "outputId": "ddbb0ac2-61f0-413b-ee3e-448fcb70a198"
      },
      "source": [
        "# python dict\n",
        "a_dict={\n",
        "    \"name\":\"Divya Kharb\",\n",
        "    \"address\": { \"village\": \"mundhela\",\n",
        "                \"state\": \"new delhi\"}\n",
        "}\n",
        "a_dict\n",
        "# dictionary has no order as there it can be seen\n",
        "# access the value as per the key\n",
        "a_dict[\"address\"][\"state\"]\n"
      ],
      "execution_count": null,
      "outputs": [
        {
          "output_type": "execute_result",
          "data": {
            "application/vnd.google.colaboratory.intrinsic+json": {
              "type": "string"
            },
            "text/plain": [
              "'new delhi'"
            ]
          },
          "metadata": {},
          "execution_count": 7
        }
      ]
    },
    {
      "cell_type": "code",
      "metadata": {
        "id": "IbC2luMraLyZ"
      },
      "source": [
        "#JSON\n",
        "# javascript object notation\n",
        "# a popular and simple format to send data\n",
        "# look identical to python dictionaries\n",
        "# common format for APIs"
      ],
      "execution_count": null,
      "outputs": []
    },
    {
      "cell_type": "code",
      "metadata": {
        "id": "y1pSTcNYBCWB"
      },
      "source": [
        "#API \n",
        "# Application programmable interface\n",
        "# It is a website/ interface which allows us to access us from the program & not\n",
        "# from any keyboard or mouse\n",
        "# API's response can be in XML,HTML,CSV,JSON format as well\n"
      ],
      "execution_count": null,
      "outputs": []
    },
    {
      "cell_type": "code",
      "metadata": {
        "colab": {
          "base_uri": "https://localhost:8080/"
        },
        "id": "-pxFT4rRFLzp",
        "outputId": "945566aa-8793-41b3-9a81-cccb85424486"
      },
      "source": [
        "url='http://xkcd.com/info.0.json'\n",
        "import requests\n",
        "\n",
        "response=requests.get(url)\n",
        "blob=response.json()\n",
        "blob\n",
        "# HTTP status code\n",
        "# 200: ok\n",
        "# 300: redirect\n",
        "# 400: Error on client side\n",
        "# 500: Error on server side"
      ],
      "execution_count": 3,
      "outputs": [
        {
          "output_type": "execute_result",
          "data": {
            "text/plain": [
              "{'alt': \"Oh, wait, I might've had it set to kph instead of mph. But that would make the discrepancy even wider!\",\n",
              " 'day': '15',\n",
              " 'img': 'https://imgs.xkcd.com/comics/hubble_tension.png',\n",
              " 'link': '',\n",
              " 'month': '9',\n",
              " 'news': '',\n",
              " 'num': 2516,\n",
              " 'safe_title': 'Hubble Tension',\n",
              " 'title': 'Hubble Tension',\n",
              " 'transcript': '',\n",
              " 'year': '2021'}"
            ]
          },
          "metadata": {},
          "execution_count": 3
        }
      ]
    },
    {
      "cell_type": "code",
      "metadata": {
        "colab": {
          "base_uri": "https://localhost:8080/"
        },
        "id": "QlD3fwNNG5oQ",
        "outputId": "840defbf-bbdf-4288-d1ce-9cf370a43106"
      },
      "source": [
        "print(blob['title'])"
      ],
      "execution_count": 5,
      "outputs": [
        {
          "output_type": "stream",
          "name": "stdout",
          "text": [
            "Hubble Tension\n"
          ]
        }
      ]
    },
    {
      "cell_type": "code",
      "metadata": {
        "id": "HVpZBsNrHIH7"
      },
      "source": [
        "# we could call the twitter API with the GET requests\n",
        "# some more sophisticated API uses 'wrappers'\n",
        "# these wrappers are the classes used to streamline the use of API\n",
        "\n",
        "import tweepy"
      ],
      "execution_count": 9,
      "outputs": []
    },
    {
      "cell_type": "code",
      "metadata": {
        "id": "apMOf8kMOyoX"
      },
      "source": [
        "# Authenticate with tweepy.OAuthHandler\n",
        "# tweepy.OAuthHandler(public_bearer_token, secret_bearer_token)\n",
        "# auth.set_access_token(public_access_token, secret_access_token)\n",
        "\n",
        "auth= tweepy.OAuthHandler('JxPlMh4cXz50VBLfr1d9Nd8Ln','wZdSRSwmr9qtpMSunMYbVx9iAFPIeSaIEVcLIjS8NpLSCGSjV8')\n",
        "auth.set_access_token('1285489197638287361-Vvo1ILUK7WCEihPDREB0wx1v9Cjus1','WnRCYI109ot0GYHz4p5dkYFKUobUGC7ueILXZGGsFswQ4')\n",
        "\n",
        "#create an instance of API wrapper\n",
        "api=tweepy.API(auth)"
      ],
      "execution_count": 11,
      "outputs": []
    },
    {
      "cell_type": "code",
      "metadata": {
        "id": "e0ujMnU7St8s"
      },
      "source": [
        "# see our timeline\n",
        "#api.home_timeline()\n",
        "for tweet in api.home_timeline():\n",
        " print(tweet._json['text'])\n",
        "\n",
        " "
      ],
      "execution_count": null,
      "outputs": []
    },
    {
      "cell_type": "code",
      "metadata": {
        "colab": {
          "base_uri": "https://localhost:8080/"
        },
        "id": "9Fa9cnt2VxfT",
        "outputId": "d794882d-2fc5-4d6d-8575-92a70d535465"
      },
      "source": [
        "one_tweet= tweet._json['text']\n",
        "one_tweet\n",
        "# way to tweet the text of the tweet on your timeline\n",
        "#api.update_status(status=one_tweet)"
      ],
      "execution_count": 19,
      "outputs": [
        {
          "output_type": "execute_result",
          "data": {
            "text/plain": [
              "Status(_api=<tweepy.api.API object at 0x7f82015009d0>, _json={'created_at': 'Thu Sep 16 11:22:58 +0000 2021', 'id': 1438463418391007232, 'id_str': '1438463418391007232', 'text': 'After Nicki Minaj questioned the efficacy of the Covid vaccine this week, the White House confirmed that it had off… https://t.co/O2pIytFmvt', 'truncated': False, 'entities': {'hashtags': [], 'symbols': [], 'user_mentions': [], 'urls': [{'url': 'https://t.co/O2pIytFmvt', 'expanded_url': 'https://twitter.com/i/web/status/1438457694768275457', 'display_url': 'twitter.com/i/web/status/1…', 'indices': [117, 140]}]}, 'source': '<a href=\"https://help.twitter.com/en/using-twitter/how-to-tweet#source-labels\" rel=\"nofollow\">Women_In_Tech</a>', 'in_reply_to_status_id': None, 'in_reply_to_status_id_str': None, 'in_reply_to_user_id': None, 'in_reply_to_user_id_str': None, 'in_reply_to_screen_name': None, 'user': {'id': 1285489197638287361, 'id_str': '1285489197638287361', 'name': 'Divya Kharb', 'screen_name': 'DivyaKharb', 'location': 'New Delhi, India', 'description': 'Claim what is yours...✨', 'url': None, 'entities': {'description': {'urls': []}}, 'protected': False, 'followers_count': 10, 'friends_count': 155, 'listed_count': 0, 'created_at': 'Tue Jul 21 08:18:19 +0000 2020', 'favourites_count': 210, 'utc_offset': None, 'time_zone': None, 'geo_enabled': False, 'verified': False, 'statuses_count': 92, 'lang': None, 'contributors_enabled': False, 'is_translator': False, 'is_translation_enabled': False, 'profile_background_color': 'F5F8FA', 'profile_background_image_url': None, 'profile_background_image_url_https': None, 'profile_background_tile': False, 'profile_image_url': 'http://pbs.twimg.com/profile_images/1410445822739763205/cCWkeQSn_normal.jpg', 'profile_image_url_https': 'https://pbs.twimg.com/profile_images/1410445822739763205/cCWkeQSn_normal.jpg', 'profile_banner_url': 'https://pbs.twimg.com/profile_banners/1285489197638287361/1625111125', 'profile_link_color': '1DA1F2', 'profile_sidebar_border_color': 'C0DEED', 'profile_sidebar_fill_color': 'DDEEF6', 'profile_text_color': '333333', 'profile_use_background_image': True, 'has_extended_profile': True, 'default_profile': True, 'default_profile_image': False, 'following': False, 'follow_request_sent': False, 'notifications': False, 'translator_type': 'none', 'withheld_in_countries': []}, 'geo': None, 'coordinates': None, 'place': None, 'contributors': None, 'is_quote_status': False, 'retweet_count': 0, 'favorite_count': 0, 'favorited': False, 'retweeted': False, 'possibly_sensitive': False, 'lang': 'en'}, created_at=datetime.datetime(2021, 9, 16, 11, 22, 58), id=1438463418391007232, id_str='1438463418391007232', text='After Nicki Minaj questioned the efficacy of the Covid vaccine this week, the White House confirmed that it had off… https://t.co/O2pIytFmvt', truncated=False, entities={'hashtags': [], 'symbols': [], 'user_mentions': [], 'urls': [{'url': 'https://t.co/O2pIytFmvt', 'expanded_url': 'https://twitter.com/i/web/status/1438457694768275457', 'display_url': 'twitter.com/i/web/status/1…', 'indices': [117, 140]}]}, source='Women_In_Tech', source_url='https://help.twitter.com/en/using-twitter/how-to-tweet#source-labels', in_reply_to_status_id=None, in_reply_to_status_id_str=None, in_reply_to_user_id=None, in_reply_to_user_id_str=None, in_reply_to_screen_name=None, author=User(_api=<tweepy.api.API object at 0x7f82015009d0>, _json={'id': 1285489197638287361, 'id_str': '1285489197638287361', 'name': 'Divya Kharb', 'screen_name': 'DivyaKharb', 'location': 'New Delhi, India', 'description': 'Claim what is yours...✨', 'url': None, 'entities': {'description': {'urls': []}}, 'protected': False, 'followers_count': 10, 'friends_count': 155, 'listed_count': 0, 'created_at': 'Tue Jul 21 08:18:19 +0000 2020', 'favourites_count': 210, 'utc_offset': None, 'time_zone': None, 'geo_enabled': False, 'verified': False, 'statuses_count': 92, 'lang': None, 'contributors_enabled': False, 'is_translator': False, 'is_translation_enabled': False, 'profile_background_color': 'F5F8FA', 'profile_background_image_url': None, 'profile_background_image_url_https': None, 'profile_background_tile': False, 'profile_image_url': 'http://pbs.twimg.com/profile_images/1410445822739763205/cCWkeQSn_normal.jpg', 'profile_image_url_https': 'https://pbs.twimg.com/profile_images/1410445822739763205/cCWkeQSn_normal.jpg', 'profile_banner_url': 'https://pbs.twimg.com/profile_banners/1285489197638287361/1625111125', 'profile_link_color': '1DA1F2', 'profile_sidebar_border_color': 'C0DEED', 'profile_sidebar_fill_color': 'DDEEF6', 'profile_text_color': '333333', 'profile_use_background_image': True, 'has_extended_profile': True, 'default_profile': True, 'default_profile_image': False, 'following': False, 'follow_request_sent': False, 'notifications': False, 'translator_type': 'none', 'withheld_in_countries': []}, id=1285489197638287361, id_str='1285489197638287361', name='Divya Kharb', screen_name='DivyaKharb', location='New Delhi, India', description='Claim what is yours...✨', url=None, entities={'description': {'urls': []}}, protected=False, followers_count=10, friends_count=155, listed_count=0, created_at=datetime.datetime(2020, 7, 21, 8, 18, 19), favourites_count=210, utc_offset=None, time_zone=None, geo_enabled=False, verified=False, statuses_count=92, lang=None, contributors_enabled=False, is_translator=False, is_translation_enabled=False, profile_background_color='F5F8FA', profile_background_image_url=None, profile_background_image_url_https=None, profile_background_tile=False, profile_image_url='http://pbs.twimg.com/profile_images/1410445822739763205/cCWkeQSn_normal.jpg', profile_image_url_https='https://pbs.twimg.com/profile_images/1410445822739763205/cCWkeQSn_normal.jpg', profile_banner_url='https://pbs.twimg.com/profile_banners/1285489197638287361/1625111125', profile_link_color='1DA1F2', profile_sidebar_border_color='C0DEED', profile_sidebar_fill_color='DDEEF6', profile_text_color='333333', profile_use_background_image=True, has_extended_profile=True, default_profile=True, default_profile_image=False, following=False, follow_request_sent=False, notifications=False, translator_type='none', withheld_in_countries=[]), user=User(_api=<tweepy.api.API object at 0x7f82015009d0>, _json={'id': 1285489197638287361, 'id_str': '1285489197638287361', 'name': 'Divya Kharb', 'screen_name': 'DivyaKharb', 'location': 'New Delhi, India', 'description': 'Claim what is yours...✨', 'url': None, 'entities': {'description': {'urls': []}}, 'protected': False, 'followers_count': 10, 'friends_count': 155, 'listed_count': 0, 'created_at': 'Tue Jul 21 08:18:19 +0000 2020', 'favourites_count': 210, 'utc_offset': None, 'time_zone': None, 'geo_enabled': False, 'verified': False, 'statuses_count': 92, 'lang': None, 'contributors_enabled': False, 'is_translator': False, 'is_translation_enabled': False, 'profile_background_color': 'F5F8FA', 'profile_background_image_url': None, 'profile_background_image_url_https': None, 'profile_background_tile': False, 'profile_image_url': 'http://pbs.twimg.com/profile_images/1410445822739763205/cCWkeQSn_normal.jpg', 'profile_image_url_https': 'https://pbs.twimg.com/profile_images/1410445822739763205/cCWkeQSn_normal.jpg', 'profile_banner_url': 'https://pbs.twimg.com/profile_banners/1285489197638287361/1625111125', 'profile_link_color': '1DA1F2', 'profile_sidebar_border_color': 'C0DEED', 'profile_sidebar_fill_color': 'DDEEF6', 'profile_text_color': '333333', 'profile_use_background_image': True, 'has_extended_profile': True, 'default_profile': True, 'default_profile_image': False, 'following': False, 'follow_request_sent': False, 'notifications': False, 'translator_type': 'none', 'withheld_in_countries': []}, id=1285489197638287361, id_str='1285489197638287361', name='Divya Kharb', screen_name='DivyaKharb', location='New Delhi, India', description='Claim what is yours...✨', url=None, entities={'description': {'urls': []}}, protected=False, followers_count=10, friends_count=155, listed_count=0, created_at=datetime.datetime(2020, 7, 21, 8, 18, 19), favourites_count=210, utc_offset=None, time_zone=None, geo_enabled=False, verified=False, statuses_count=92, lang=None, contributors_enabled=False, is_translator=False, is_translation_enabled=False, profile_background_color='F5F8FA', profile_background_image_url=None, profile_background_image_url_https=None, profile_background_tile=False, profile_image_url='http://pbs.twimg.com/profile_images/1410445822739763205/cCWkeQSn_normal.jpg', profile_image_url_https='https://pbs.twimg.com/profile_images/1410445822739763205/cCWkeQSn_normal.jpg', profile_banner_url='https://pbs.twimg.com/profile_banners/1285489197638287361/1625111125', profile_link_color='1DA1F2', profile_sidebar_border_color='C0DEED', profile_sidebar_fill_color='DDEEF6', profile_text_color='333333', profile_use_background_image=True, has_extended_profile=True, default_profile=True, default_profile_image=False, following=False, follow_request_sent=False, notifications=False, translator_type='none', withheld_in_countries=[]), geo=None, coordinates=None, place=None, contributors=None, is_quote_status=False, retweet_count=0, favorite_count=0, favorited=False, retweeted=False, possibly_sensitive=False, lang='en')"
            ]
          },
          "metadata": {},
          "execution_count": 19
        }
      ]
    },
    {
      "cell_type": "code",
      "metadata": {
        "colab": {
          "base_uri": "https://localhost:8080/",
          "height": 35
        },
        "id": "mboMuFgMXoW_",
        "outputId": "cd3f0ed1-d7f2-487c-b908-b555a9ed43c3"
      },
      "source": [
        "# lookup a twitter user\n",
        "user= api.get_user('SpaceX')\n",
        "user._json['description']\n",
        "\n"
      ],
      "execution_count": 22,
      "outputs": [
        {
          "output_type": "execute_result",
          "data": {
            "application/vnd.google.colaboratory.intrinsic+json": {
              "type": "string"
            },
            "text/plain": [
              "'SpaceX designs, manufactures and launches the world’s most advanced rockets and spacecraft'"
            ]
          },
          "metadata": {},
          "execution_count": 22
        }
      ]
    },
    {
      "cell_type": "code",
      "metadata": {
        "id": "AaiT2jOyZ3rN"
      },
      "source": [
        "# pig latinfy the sentence code\n",
        "def pig_latinfy(sentence):\n",
        "  vowels=['a','e','i','o','u']\n",
        "  new_sentence=[]\n",
        "  for word in sentence.split():\n",
        "    if word.startswith(\"http\")and \"://\" in word:\n",
        "      continue\n",
        "    word=word.strip('.,?/\\\\!@#()\"\\'').lower()\n",
        "    if word[0] in vowels:\n",
        "      new_sentence.append(word+'yay')\n",
        "    else:\n",
        "      n=0\n",
        "      while word[n] not in vowels:\n",
        "        n+=1\n",
        "        new_sentence.append(word[n:]+word[:n]+'ay')\n",
        "  return \" \".join(new_sentence).capitalize()"
      ],
      "execution_count": 24,
      "outputs": []
    },
    {
      "cell_type": "code",
      "metadata": {
        "colab": {
          "base_uri": "https://localhost:8080/",
          "height": 52
        },
        "id": "8oY_P7XdbR32",
        "outputId": "aa4d2dcb-bc45-463b-b133-fbd26a1888a7"
      },
      "source": [
        "# we can convert a tweet to something and then share on the twitter\n",
        "pig_latinfy(one_tweet)"
      ],
      "execution_count": 25,
      "outputs": [
        {
          "output_type": "execute_result",
          "data": {
            "application/vnd.google.colaboratory.intrinsic+json": {
              "type": "string"
            },
            "text/plain": [
              "'Afteryay ickinay inajmay uestionedqay hetay ethay efficacyyay ofyay hetay ethay ovidcay accinevay histay isthay eekway hetay ethay hiteway itewhay ousehay onfirmedcay hattay atthay ityay adhay off…yay'"
            ]
          },
          "metadata": {},
          "execution_count": 25
        }
      ]
    },
    {
      "cell_type": "markdown",
      "metadata": {
        "id": "aLj4ddzMbyxy"
      },
      "source": [
        "There are so many functions to explore on tweepy.api. Find the documentation \n",
        "here on [tweepy.api](https://docs.tweepy.org/en/stable/api.html#tweepy-api-twitter-api-wrapper)\n"
      ]
    },
    {
      "cell_type": "code",
      "metadata": {
        "id": "jDy0k0xHb5MJ"
      },
      "source": [
        ""
      ],
      "execution_count": null,
      "outputs": []
    }
  ]
}